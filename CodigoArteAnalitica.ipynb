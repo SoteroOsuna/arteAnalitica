{
 "cells": [
  {
   "cell_type": "markdown",
   "metadata": {},
   "source": [
    "<strong>Ejercicios con Python</strong>\n",
    "<ol>\n",
    "<li>Escribir una función de Python que encuentre los números primos en los primeros N números naturales.</li>\n",
    "<ul>\n",
    "    <li>N es el argumento de la función.</li>\n",
    "    <li>Llamar la función desde el código principal.</li>\n",
    "    </ul>\n",
    "    <li>Escribir una función de Python <em>crossProductA</em> que encuentre el producto cruz en vectores de 3 componentes.</li>\n",
    "    <ul>\n",
    "        <li>La función recibe dos listas (vectores).</li>\n",
    "        <li>La función regresa un tercer vector (lista) con el resultado.</li>\n",
    "        <li>Llamar a la función desde el código principal.</li></ul>\n",
    "    <li>Re-escribir el problema 2, pero ahora los vectores son leídos desde un archivo de texto.</li>\n",
    "</ol>"
   ]
  },
  {
   "cell_type": "code",
   "execution_count": 1,
   "metadata": {},
   "outputs": [],
   "source": [
    "import math\n",
    "def findPrimes(n):\n",
    "    primes = []\n",
    "    # Ver el residuo. Usar % para ver si da cero el residuo de la division\n",
    "    # ALgoritmo: Criba de Eratostenes\n",
    "    for i in range(2, n+1):  # 2 3 4 5 6 7 8 9 10 --- i\n",
    "        isPrime = True # Asumir que es primo\n",
    "        limit = int(math.sqrt(i)) # Definir limite de prueba \n",
    "        for test in range(2, limit+1): \n",
    "            # Se puede dividir i entre test?\n",
    "            if i % test == 0: # Si se puede\n",
    "                isPrime = False # No es primo\n",
    "                break # Dejar de buscar\n",
    "        # Despues del for...\n",
    "        if isPrime:\n",
    "            primes.append(i)\n",
    "    return primes"
   ]
  },
  {
   "cell_type": "code",
   "execution_count": 4,
   "metadata": {},
   "outputs": [
    {
     "name": "stdout",
     "output_type": "stream",
     "text": [
      "[2, 3, 5, 7, 11, 13, 17, 19, 23, 29, 31, 37, 41, 43, 47]\n"
     ]
    }
   ],
   "source": [
    "primes100 = findPrimes(50)\n",
    "print(primes100)"
   ]
  },
  {
   "cell_type": "code",
   "execution_count": 3,
   "metadata": {},
   "outputs": [],
   "source": [
    "def crossProductA(a, b):\n",
    "    # a = (ax, ay, az)\n",
    "    # b = (bx, by, bz)\n",
    "    # axb = ( ay*bz - az*by, az*bx - ax*bz, ax*by - ay*bx )\n",
    "    # x = 0\n",
    "    # y = 1\n",
    "    # z = 2\n",
    "    product = [a[1]*b[2]-a[2]*b[1], a[2]*b[0]-a[0]*b[2],a[0]*b[1] - a[1]*b[0]]#calcular el producto\n",
    "    # 3D cross product?\n",
    "    return product"
   ]
  },
  {
   "cell_type": "code",
   "execution_count": 4,
   "metadata": {},
   "outputs": [
    {
     "name": "stdout",
     "output_type": "stream",
     "text": [
      "[-13, 14, -3]\n"
     ]
    }
   ],
   "source": [
    "vectorA = [1, 2, 5]\n",
    "vectorB = [4, 5, 6]\n",
    "producto = crossProductA(vectorA, vectorB)\n",
    "print(producto)"
   ]
  },
  {
   "cell_type": "code",
   "execution_count": 5,
   "metadata": {},
   "outputs": [],
   "source": [
    "def crossProductB():\n",
    "    # Read a, b from file: vectors.txt\n",
    "    file = open(\"vectors.txt\", \"r\")\n",
    "    '''\n",
    "    for line in file:\n",
    "        print(line)\n",
    "    '''\n",
    "    \n",
    "    linea1 = file.readline().strip()\n",
    "    linea2 = file.readline().strip()\n",
    "    \n",
    "    file.close()\n",
    "    \n",
    "    vector1 = linea1.split(\",\")\n",
    "    vector2 = linea2.split(\",\")\n",
    "    \n",
    "    \n",
    "    for i in range(3):\n",
    "        vector1[i] = float(vector1[i])\n",
    "        vector2[i] = float(vector2[i])\n",
    "    #print(vector1)\n",
    "    #print(vector2)\n",
    "    \n",
    "    product = crossProductA(vector1, vector2)\n",
    "\n",
    "    return product"
   ]
  },
  {
   "cell_type": "code",
   "execution_count": 6,
   "metadata": {},
   "outputs": [
    {
     "name": "stdout",
     "output_type": "stream",
     "text": [
      "[-342.20075929999996, -97.56381480000002, -438.88081]\n"
     ]
    }
   ],
   "source": [
    "print(crossProductB())"
   ]
  },
  {
   "cell_type": "code",
   "execution_count": 10,
   "metadata": {},
   "outputs": [
    {
     "name": "stdout",
     "output_type": "stream",
     "text": [
      "18249\n",
      "1.28\n",
      "62505646.52\n",
      "62505646.52\n",
      "84.56\n",
      "84.56\n"
     ]
    }
   ],
   "source": [
    "file = open(\"avocado.csv\", \"r\")\n",
    "data = []\n",
    "\n",
    "for line in file:\n",
    "    line = line.strip()\n",
    "    row = line.split(\",\")\n",
    "    data.append(row)\n",
    "file.close()\n",
    "\n",
    "# Remove first element\n",
    "headers = data[0]\n",
    "data.remove(headers)\n",
    "\n",
    "#Get length\n",
    "print(len(data))\n",
    "\n",
    "#¿Cuál es el valor de la variable 2 del objeto 15?\n",
    "print (data[15][2])\n",
    "\n",
    "#Get max\n",
    "\n",
    "#Método 1 con función\n",
    "\n",
    "def maxM(matrix, n):\n",
    "    currentMax = float(matrix[0][n])\n",
    "    \n",
    "    for i in range(1, len(matrix)):\n",
    "        if float(matrix[i][n]) > currentMax:\n",
    "            currentMax = float(matrix[i][n])\n",
    "            \n",
    "    return currentMax\n",
    "\n",
    "print(maxM(data, 3))\n",
    "\n",
    "#Método 2 con lista separada\n",
    "\n",
    "totalVolume = []\n",
    "for object in data:\n",
    "    totalVolume.append(float(object[3]))\n",
    "print(max(totalVolumeMax))\n",
    "\n",
    "#Get min\n",
    "\n",
    "#Método 1 con función\n",
    "def minM(matrix, n):\n",
    "    currentMin = float(matrix[0][n])\n",
    "    \n",
    "    for i in range(1, len(matrix)):\n",
    "        if float(matrix[i][n]) < currentMin:\n",
    "            currentMin = float(matrix[i][n])\n",
    "            \n",
    "    return currentMin\n",
    "\n",
    "print(minM(data, 3))\n",
    "\n",
    "#Método 2 con lista separada\n",
    "\n",
    "for object in data:\n",
    "    totalVolume.append(float(object[3]))\n",
    "\n",
    "print(min(totalVolumeMin))"
   ]
  },
  {
   "cell_type": "code",
   "execution_count": 2,
   "metadata": {},
   "outputs": [
    {
     "ename": "ModuleNotFoundError",
     "evalue": "No module named 'matplotlib'",
     "output_type": "error",
     "traceback": [
      "\u001b[0;31m---------------------------------------------------------------------------\u001b[0m",
      "\u001b[0;31mModuleNotFoundError\u001b[0m                       Traceback (most recent call last)",
      "\u001b[0;32m<ipython-input-2-fbf83e2867c0>\u001b[0m in \u001b[0;36m<module>\u001b[0;34m\u001b[0m\n\u001b[1;32m      1\u001b[0m \u001b[0;32mimport\u001b[0m \u001b[0mpandas\u001b[0m \u001b[0;32mas\u001b[0m \u001b[0mpd\u001b[0m\u001b[0;34m\u001b[0m\u001b[0;34m\u001b[0m\u001b[0m\n\u001b[0;32m----> 2\u001b[0;31m \u001b[0;32mimport\u001b[0m \u001b[0mmatplotlib\u001b[0m \u001b[0;32mas\u001b[0m \u001b[0mplt\u001b[0m\u001b[0;34m\u001b[0m\u001b[0;34m\u001b[0m\u001b[0m\n\u001b[0m\u001b[1;32m      3\u001b[0m \u001b[0;34m\u001b[0m\u001b[0m\n\u001b[1;32m      4\u001b[0m \u001b[0mdata\u001b[0m \u001b[0;34m=\u001b[0m \u001b[0mpd\u001b[0m\u001b[0;34m.\u001b[0m\u001b[0mread_csv\u001b[0m\u001b[0;34m(\u001b[0m\u001b[0;34m\"avocado.csv\"\u001b[0m\u001b[0;34m)\u001b[0m\u001b[0;34m\u001b[0m\u001b[0;34m\u001b[0m\u001b[0m\n\u001b[1;32m      5\u001b[0m \u001b[0mdata\u001b[0m\u001b[0;34m.\u001b[0m\u001b[0mhead\u001b[0m\u001b[0;34m(\u001b[0m\u001b[0;34m)\u001b[0m\u001b[0;34m\u001b[0m\u001b[0;34m\u001b[0m\u001b[0m\n",
      "\u001b[0;31mModuleNotFoundError\u001b[0m: No module named 'matplotlib'"
     ]
    }
   ],
   "source": [
    "import pandas as pd\n",
    "import matplotlib as plt\n",
    "\n",
    "data = pd.read_csv(\"avocado.csv\")\n",
    "data.head()\n",
    "data.hist()\n"
   ]
  },
  {
   "cell_type": "code",
   "execution_count": null,
   "metadata": {},
   "outputs": [],
   "source": []
  },
  {
   "cell_type": "code",
   "execution_count": null,
   "metadata": {},
   "outputs": [],
   "source": []
  },
  {
   "cell_type": "code",
   "execution_count": null,
   "metadata": {},
   "outputs": [],
   "source": []
  }
 ],
 "metadata": {
  "kernelspec": {
   "display_name": "Python 3",
   "language": "python",
   "name": "python3"
  },
  "language_info": {
   "codemirror_mode": {
    "name": "ipython",
    "version": 3
   },
   "file_extension": ".py",
   "mimetype": "text/x-python",
   "name": "python",
   "nbconvert_exporter": "python",
   "pygments_lexer": "ipython3",
   "version": "3.8.2"
  }
 },
 "nbformat": 4,
 "nbformat_minor": 4
}
